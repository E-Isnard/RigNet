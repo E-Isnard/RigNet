{
 "metadata": {
  "language_info": {
   "codemirror_mode": {
    "name": "ipython",
    "version": 3
   },
   "file_extension": ".py",
   "mimetype": "text/x-python",
   "name": "python",
   "nbconvert_exporter": "python",
   "pygments_lexer": "ipython3",
   "version": "3.9.2-final"
  },
  "orig_nbformat": 2,
  "kernelspec": {
   "name": "python3",
   "display_name": "Python 3.9.2 64-bit ('skeletor': conda)",
   "metadata": {
    "interpreter": {
     "hash": "8bd58d56203f25ab5407af53200bcebac8cee58af7f749886ff2218ca77ccec4"
    }
   }
  }
 },
 "nbformat": 4,
 "nbformat_minor": 2,
 "cells": [
  {
   "cell_type": "code",
   "execution_count": 7,
   "metadata": {},
   "outputs": [
    {
     "output_type": "stream",
     "name": "stderr",
     "text": [
      "  0%|          | [00:00<?, 4/4it, ?it/s, epsilon 1\n",
      "Clustering: 100%|██████████| 1012/1012 [00:00<00:00, 338244.93it/s]\n"
     ]
    },
    {
     "output_type": "execute_result",
     "data": {
      "text/plain": [
       "   node_id  parent_id         x         y         z radius\n",
       "0        0         -1 -0.036033  0.397961  0.237208   None\n",
       "1        1         -1 -0.000225  0.145005  0.048537   None\n",
       "2        2         -1  0.036035  0.397961  0.237208   None"
      ],
      "text/html": "<div>\n<style scoped>\n    .dataframe tbody tr th:only-of-type {\n        vertical-align: middle;\n    }\n\n    .dataframe tbody tr th {\n        vertical-align: top;\n    }\n\n    .dataframe thead th {\n        text-align: right;\n    }\n</style>\n<table border=\"1\" class=\"dataframe\">\n  <thead>\n    <tr style=\"text-align: right;\">\n      <th></th>\n      <th>node_id</th>\n      <th>parent_id</th>\n      <th>x</th>\n      <th>y</th>\n      <th>z</th>\n      <th>radius</th>\n    </tr>\n  </thead>\n  <tbody>\n    <tr>\n      <th>0</th>\n      <td>0</td>\n      <td>-1</td>\n      <td>-0.036033</td>\n      <td>0.397961</td>\n      <td>0.237208</td>\n      <td>None</td>\n    </tr>\n    <tr>\n      <th>1</th>\n      <td>1</td>\n      <td>-1</td>\n      <td>-0.000225</td>\n      <td>0.145005</td>\n      <td>0.048537</td>\n      <td>None</td>\n    </tr>\n    <tr>\n      <th>2</th>\n      <td>2</td>\n      <td>-1</td>\n      <td>0.036035</td>\n      <td>0.397961</td>\n      <td>0.237208</td>\n      <td>None</td>\n    </tr>\n  </tbody>\n</table>\n</div>"
     },
     "metadata": {},
     "execution_count": 7
    }
   ],
   "source": [
    "import skeletor as sk\n",
    "import numpy as np\n",
    "import trimesh as tr\n",
    "import navis\n",
    "\n",
    "mesh = tr.load_mesh(\"quick_start/17872_remesh.obj\")\n",
    "cont = sk.contract(mesh,iter_lim=4)\n",
    "swc = sk.skeletonize(cont, method='vertex_clusters', sampling_dist=50, output='swc')\n",
    "swc"
   ]
  }
 ]
}